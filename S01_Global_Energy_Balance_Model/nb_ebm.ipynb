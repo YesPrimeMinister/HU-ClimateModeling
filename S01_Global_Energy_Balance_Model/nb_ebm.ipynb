{
 "cells": [
  {
   "cell_type": "markdown",
   "id": "70f8800e",
   "metadata": {
    "slideshow": {
     "slide_type": "slide"
    }
   },
   "source": [
    "(ebm:exercise)=\n",
    "# Simplified Energy Balance Model"
   ]
  },
  {
   "cell_type": "markdown",
   "id": "99021484",
   "metadata": {
    "slideshow": {
     "slide_type": "slide"
    }
   },
   "source": [
    "**Task 1:** Write a Python function for the OLR and effective temperature for later use."
   ]
  },
  {
   "cell_type": "code",
   "execution_count": 1,
   "id": "65dbc0d3",
   "metadata": {
    "slideshow": {
     "slide_type": "fragment"
    }
   },
   "outputs": [
    {
     "data": {
      "text/plain": [
       "289.0866468789842"
      ]
     },
     "execution_count": 1,
     "metadata": {},
     "output_type": "execute_result"
    }
   ],
   "source": [
    "# Stefan-Boltzmann constant\n",
    "sigma = 5.67e-8\n",
    "\n",
    "def T_eff(OLR):\n",
    "    \"\"\" Effective global mean emission temperature \"\"\"\n",
    "    return (OLR / sigma) ** (1/4)\n",
    "     \n",
    "def OLR(T):\n",
    "    \"\"\" Stefan-Boltzmann law \"\"\"\n",
    "    return sigma * T **4\n",
    "\n",
    "T_eff(396)"
   ]
  },
  {
   "cell_type": "markdown",
   "id": "ef603b4f",
   "metadata": {
    "slideshow": {
     "slide_type": "slide"
    }
   },
   "source": [
    "**Task 2:** Extend the OLR function by another **transmissivity** constant $\\tau$ which takes this effect into account. Determine the transmissivity for a global mean temperature of 288 K."
   ]
  },
  {
   "cell_type": "code",
   "execution_count": 2,
   "id": "a0b19637",
   "metadata": {
    "slideshow": {
     "slide_type": "fragment"
    }
   },
   "outputs": [],
   "source": [
    "def OLR(T, trans):\n",
    "    \"\"\" Stefan-Boltzmann law \"\"\"\n",
    "    return(trans * sigma * T**4)\n",
    "\n",
    "def tau(olr, T):\n",
    "    \"\"\" Calculate transmissivity \"\"\"\n",
    "    return(olr / (sigma  * T**4))"
   ]
  },
  {
   "cell_type": "code",
   "execution_count": 3,
   "id": "7548d3f0",
   "metadata": {
    "slideshow": {
     "slide_type": "fragment"
    }
   },
   "outputs": [
    {
     "data": {
      "text/plain": [
       "0.61"
      ]
     },
     "execution_count": 3,
     "metadata": {},
     "output_type": "execute_result"
    }
   ],
   "source": [
    "# W/m^2\n",
    "# Global mean temperature 288 K\n",
    "\n",
    "# Print the results\n",
    "round(tau(239, 288), 2)"
   ]
  },
  {
   "cell_type": "markdown",
   "id": "fc887056",
   "metadata": {
    "slideshow": {
     "slide_type": "slide"
    }
   },
   "source": [
    "**Task 3:** Determine the planetary albedo from the observations and write a function for the absorbed shortwave radiation, the part of the incoming sunlight that is not reflected back to space"
   ]
  },
  {
   "cell_type": "code",
   "execution_count": 4,
   "id": "7db98a13",
   "metadata": {
    "slideshow": {
     "slide_type": "fragment"
    }
   },
   "outputs": [
    {
     "data": {
      "text/plain": [
       "239.00000000000003"
      ]
     },
     "execution_count": 4,
     "metadata": {},
     "output_type": "execute_result"
    }
   ],
   "source": [
    "# Overall SW incoming - 341 W/m^2\n",
    "# Overall SW reflected - 102 W/m^2\n",
    "\n",
    "# Calculate the planetary albedo\n",
    "def albedo(incoming, reflected):\n",
    "    return reflected / incoming\n",
    "\n",
    "def ASR(albedo, incoming):\n",
    "    return incoming * (1 - albedo)\n",
    "\n",
    "albedo(341, 102)\n",
    "ASR(albedo(341, 102), 341)\n"
   ]
  },
  {
   "cell_type": "markdown",
   "id": "d67af54e",
   "metadata": {
    "slideshow": {
     "slide_type": "slide"
    }
   },
   "source": [
    "**Task 4:** What additional amount of energy would have to remain in the system for the global temperature to rise by 4 K?"
   ]
  },
  {
   "cell_type": "code",
   "execution_count": 5,
   "id": "8403a427",
   "metadata": {
    "slideshow": {
     "slide_type": "fragment"
    }
   },
   "outputs": [
    {
     "name": "stdout",
     "output_type": "stream",
     "text": [
      "For the global temperature to rise by 4, there would need to be 13.5 W/m^2 of added energy.\n"
     ]
    }
   ],
   "source": [
    "new_t = 292\n",
    "old_t = 288\n",
    "transmissivity = 0.61\n",
    "\n",
    "added_energy = round(OLR(new_t, transmissivity) - OLR(old_t, transmissivity), 2)\n",
    "\n",
    "print(f'For the global temperature to rise by {new_t - old_t}, there would need to be {added_energy} W/m^2 of added energy.')"
   ]
  },
  {
   "cell_type": "code",
   "execution_count": 6,
   "id": "2f32ad2a",
   "metadata": {
    "slideshow": {
     "slide_type": "fragment"
    }
   },
   "outputs": [],
   "source": [
    "# Print the results"
   ]
  },
  {
   "cell_type": "markdown",
   "id": "afe62ba2",
   "metadata": {
    "slideshow": {
     "slide_type": "slide"
    }
   },
   "source": [
    "**Task 5:** Rearrange the equation according to the temperature denoting our equilibrium temperature. Substitute the observed values for insolation, transmissivity and planetary albedo and calculate the equlibrium temperature."
   ]
  },
  {
   "cell_type": "code",
   "execution_count": 7,
   "id": "52939c8c",
   "metadata": {
    "slideshow": {
     "slide_type": "fragment"
    }
   },
   "outputs": [
    {
     "data": {
      "text/plain": [
       "288.3176647817348"
      ]
     },
     "execution_count": 7,
     "metadata": {},
     "output_type": "execute_result"
    }
   ],
   "source": [
    "def equilibrium_temperature(alpha,Q,tau):\n",
    "    \"\"\" Equilibrium temperature \"\"\"\n",
    "    return (ASR(alpha, Q) / (sigma * tau))**(1/4)\n",
    "\n",
    "equilibrium_temperature(albedo(341, 102), 341, 0.61)"
   ]
  },
  {
   "cell_type": "code",
   "execution_count": 8,
   "id": "c6d2e0fd",
   "metadata": {},
   "outputs": [],
   "source": [
    "# Print the results"
   ]
  },
  {
   "cell_type": "markdown",
   "id": "7bc2ff07",
   "metadata": {
    "slideshow": {
     "slide_type": "slide"
    }
   },
   "source": [
    "**Task 6:** With simple approaches such as equlibrium temperature, conceptual scenarios can be calculated. For example, the connection between the increase in albedo due to more cloud cover and the associated decrease in transmissivity can be investigated. For example, assume that the planetary albedo increases to 0.32 due to more cloud cover and that the transmissivity decreases to 0.57. What is the equilibrium temperature?"
   ]
  },
  {
   "cell_type": "code",
   "execution_count": 9,
   "id": "armed-providence",
   "metadata": {},
   "outputs": [
    {
     "data": {
      "text/plain": [
       "291.0391037261307"
      ]
     },
     "execution_count": 9,
     "metadata": {},
     "output_type": "execute_result"
    }
   ],
   "source": [
    "equilibrium_temperature(.32, 341, .57)"
   ]
  },
  {
   "cell_type": "markdown",
   "id": "c6f9d1ab",
   "metadata": {
    "slideshow": {
     "slide_type": "slide"
    }
   },
   "source": [
    "**Task 8:** Write a function called *step_forward(T, dt)* that returns the new temperature given the old temeprature T and timestep dt. Assume an initial temperature of 288 K and integrate the function for a few timestep and observe how the temperature changes."
   ]
  },
  {
   "cell_type": "code",
   "execution_count": 30,
   "id": "8f4b1450",
   "metadata": {
    "slideshow": {
     "slide_type": "fragment"
    }
   },
   "outputs": [],
   "source": [
    "def step_forward(Q, T, Cw, alpha, trans, dt):\n",
    "    return (ASR(alpha, Q) + OLR(T, trans)) * dt / Cw + T"
   ]
  },
  {
   "cell_type": "code",
   "execution_count": 37,
   "id": "c2284e39",
   "metadata": {
    "slideshow": {
     "slide_type": "subslide"
    }
   },
   "outputs": [
    {
     "name": "stdout",
     "output_type": "stream",
     "text": [
      "289.5074208\n"
     ]
    }
   ],
   "source": [
    "# Do first step forward\n",
    "Q = 341\n",
    "T = 288\n",
    "alpha = albedo(341, 102)\n",
    "transmissivity = tau(239, T)\n",
    "dt = 365 * 24 * 60 * 60 # year to sec\n",
    "Cw = 10**10\n",
    "T_2 = step_forward(Q, T, Cw, alpha, tau(239, T), dt)\n",
    "print(T_2)"
   ]
  },
  {
   "cell_type": "code",
   "execution_count": 38,
   "id": "cdfa9fdb",
   "metadata": {
    "slideshow": {
     "slide_type": "fragment"
    }
   },
   "outputs": [
    {
     "name": "stdout",
     "output_type": "stream",
     "text": [
      "291.0307459062985\n"
     ]
    }
   ],
   "source": [
    "# Do second step forward\n",
    "T_3 = step_forward(Q, T_2, Cw, alpha, tau(239, T), dt)\n",
    "print(T_3)"
   ]
  },
  {
   "cell_type": "code",
   "execution_count": 39,
   "id": "4381a272",
   "metadata": {
    "slideshow": {
     "slide_type": "fragment"
    }
   },
   "outputs": [
    {
     "name": "stdout",
     "output_type": "stream",
     "text": [
      "292.57039748966497\n"
     ]
    }
   ],
   "source": [
    "# Do third step forward\n",
    "T_4 = step_forward(Q, T_3, Cw, alpha, tau(239, T), dt)\n",
    "print(T_4)"
   ]
  },
  {
   "cell_type": "markdown",
   "id": "d5e66966",
   "metadata": {
    "slideshow": {
     "slide_type": "slide"
    }
   },
   "source": [
    "**Task 9:** Integrate the equation over a time of 200 years and plot the result. Use the following initial and boundary conditions: \n",
    "\n",
    "$\n",
    "\\begin{align}\n",
    "S_0 &=1360 ~ W m^{-2} \\\\\n",
    "T_0 &= 273 ~ K \\\\ \n",
    "C_w &= 10^8 ~ J/(m^2 \\cdot K) \\\\\n",
    "\\alpha &= 0.3 \\\\\n",
    "\\tau &= 0.64\n",
    "\\end{align}\n",
    "$"
   ]
  },
  {
   "cell_type": "code",
   "execution_count": 118,
   "id": "930083f6",
   "metadata": {
    "slideshow": {
     "slide_type": "subslide"
    }
   },
   "outputs": [],
   "source": [
    "import numpy as np\n",
    "import matplotlib.pyplot as plt\n",
    "\n",
    "\n",
    "def OLR(T, trans):\n",
    "    \"\"\" Stefan-Boltzmann law \"\"\"\n",
    "    return(trans * sigma * T**4)\n",
    "\n",
    "\n",
    "def ASR(albedo, incoming):\n",
    "    return incoming * (1 - albedo)\n",
    "\n",
    "\n",
    "def step_forward(Q, T, Cw, alpha, trans, dt):\n",
    "    \"\"\" Time integration \"\"\"\n",
    "    return (ASR(alpha, Q) - OLR(T, trans)) * dt / Cw + T\n",
    "\n",
    "def ebm(T0, Q=341.3, Cw=10e8, alpha=0.3, trans=0.64, years=100):\n",
    "    ''' This is a simple Energy Balance Model with global radiation and outgoing longwave radiation.'''\n",
    "    temps_arr = np.zeros(years + 1)\n",
    "    years_arr = np.arange(0, years+1)\n",
    "    \n",
    "    temps_arr[0] = T0\n",
    "    dt = 365 * 24 * 60 * 60\n",
    "    \n",
    "    for idx, temp_now in enumerate(temps_arr[:-1]):\n",
    "        temps_arr[idx + 1] = step_forward(Q, temp_now, Cw, alpha, trans, dt)\n",
    "    return temps_arr, years_arr\n",
    "\n"
   ]
  },
  {
   "cell_type": "code",
   "execution_count": 119,
   "id": "e6ff1982",
   "metadata": {
    "slideshow": {
     "slide_type": "subslide"
    }
   },
   "outputs": [
    {
     "data": {
      "text/plain": [
       "[<matplotlib.lines.Line2D at 0x182aeda6490>]"
      ]
     },
     "execution_count": 119,
     "metadata": {},
     "output_type": "execute_result"
    },
    {
     "data": {
      "image/png": "[encoded data removed]",
      "text/plain": [
       "<Figure size 432x288 with 1 Axes>"
      ]
     },
     "metadata": {
      "needs_background": "light"
     },
     "output_type": "display_data"
    }
   ],
   "source": [
    "# Experiment 1\n",
    "temps_0, years_0 = ebm(273, years=200)\n",
    "plt.plot(years_0, temps_0)"
   ]
  },
  {
   "cell_type": "markdown",
   "id": "8e0a603e",
   "metadata": {
    "slideshow": {
     "slide_type": "slide"
    }
   },
   "source": [
    "**Task 10:** What happens if the intial temperature is set to 293 K ?"
   ]
  },
  {
   "cell_type": "code",
   "execution_count": 129,
   "id": "475378d7",
   "metadata": {
    "scrolled": true,
    "slideshow": {
     "slide_type": "fragment"
    }
   },
   "outputs": [
    {
     "data": {
      "text/plain": [
       "[<matplotlib.lines.Line2D at 0x182af1155e0>]"
      ]
     },
     "execution_count": 129,
     "metadata": {},
     "output_type": "execute_result"
    },
    {
     "data": {
      "image/png": "[encoded data removed]",
      "text/plain": [
       "<Figure size 432x288 with 1 Axes>"
      ]
     },
     "metadata": {
      "needs_background": "light"
     },
     "output_type": "display_data"
    }
   ],
   "source": [
    "# Experiment 2\n",
    "temps_1, years_1 = ebm(293, years=200)\n",
    "\n",
    "plt.figure()\n",
    "plt.plot(years_0, temps_0)\n",
    "plt.plot(years_1, temps_1)"
   ]
  },
  {
   "cell_type": "markdown",
   "id": "b4d2f61e",
   "metadata": {
    "slideshow": {
     "slide_type": "slide"
    }
   },
   "source": [
    "**Task 11:** What changes do you observe with a higher $C_w$ value (e.g. $C_w=10\\cdot10^8 ~ J/(m^2 \\cdot K)$)?\n"
   ]
  },
  {
   "cell_type": "code",
   "execution_count": 130,
   "id": "b2bfb120",
   "metadata": {
    "slideshow": {
     "slide_type": "fragment"
    }
   },
   "outputs": [
    {
     "data": {
      "text/plain": [
       "[<matplotlib.lines.Line2D at 0x182b014e5b0>]"
      ]
     },
     "execution_count": 130,
     "metadata": {},
     "output_type": "execute_result"
    },
    {
     "data": {
      "image/png": "[encoded data removed]",
      "text/plain": [
       "<Figure size 432x288 with 1 Axes>"
      ]
     },
     "metadata": {
      "needs_background": "light"
     },
     "output_type": "display_data"
    }
   ],
   "source": [
    "# Experiment 3\n",
    "temps_2, years_2 = ebm(293, Cw=10**9, years=200)\n",
    "\n",
    "plt.figure()\n",
    "plt.plot(years_0, temps_0)\n",
    "plt.plot(years_1, temps_1)\n",
    "plt.plot(years_2, temps_2)"
   ]
  },
  {
   "cell_type": "markdown",
   "id": "b4e0c79f",
   "metadata": {
    "slideshow": {
     "slide_type": "slide"
    }
   },
   "source": [
    "**Task 12:** How does the result change when $\\tau=1$?"
   ]
  },
  {
   "cell_type": "code",
   "execution_count": 122,
   "id": "ba686e98",
   "metadata": {
    "slideshow": {
     "slide_type": "fragment"
    }
   },
   "outputs": [
    {
     "data": {
      "text/plain": [
       "[<matplotlib.lines.Line2D at 0x182aeedb730>]"
      ]
     },
     "execution_count": 122,
     "metadata": {},
     "output_type": "execute_result"
    },
    {
     "data": {
      "image/png": "[encoded data removed]",
      "text/plain": [
       "<Figure size 432x288 with 1 Axes>"
      ]
     },
     "metadata": {
      "needs_background": "light"
     },
     "output_type": "display_data"
    }
   ],
   "source": [
    "# Experiment 4\n",
    "temps_3, years_3 = ebm(293, Cw=10**9, trans=1, years=200)\n",
    "\n",
    "plt.figure()\n",
    "plt.plot(years_0, temps_0)\n",
    "plt.plot(years_1, temps_1)\n",
    "plt.plot(years_2, temps_2)\n",
    "plt.plot(years_3, temps_3)"
   ]
  },
  {
   "cell_type": "markdown",
   "id": "b9334fd2",
   "metadata": {
    "slideshow": {
     "slide_type": "slide"
    }
   },
   "source": [
    "### Case Study: Venus. \n",
    "\n",
    "Calculate the mean surface temperature on Venus. Due to its proximity to the Sun, Venus has a very high irradiance of $S_{0}=2619 ~ Wm^{-2}$. Due to the high cloud cover, the albedo is about 0.7. What surface temperature can be expected? (Use the previous values for $C_w$ and $\\tau$)."
   ]
  },
  {
   "cell_type": "code",
   "execution_count": 123,
   "id": "756bf0ca",
   "metadata": {
    "slideshow": {
     "slide_type": "fragment"
    }
   },
   "outputs": [
    {
     "name": "stdout",
     "output_type": "stream",
     "text": [
      "271.24293325695794\n"
     ]
    },
    {
     "data": {
      "image/png": "[encoded data removed]",
      "text/plain": [
       "<Figure size 432x288 with 1 Axes>"
      ]
     },
     "metadata": {
      "needs_background": "light"
     },
     "output_type": "display_data"
    }
   ],
   "source": [
    "# Experiment 5\n",
    "temps_v0, years_v0 = ebm(273, Q=2619/4, alpha=0.7, years=200)\n",
    "plt.plot(years_v0, temps_v0)\n",
    "\n",
    "print(temps_v0[-1])"
   ]
  },
  {
   "cell_type": "markdown",
   "id": "70fa093f",
   "metadata": {
    "slideshow": {
     "slide_type": "slide"
    }
   },
   "source": [
    "Compare the measurements with your simulation. \n",
    "\n",
    "Is there a difference? If so, why does this difference exist? (Use the model to prove your hypothesis)"
   ]
  },
  {
   "cell_type": "code",
   "execution_count": 127,
   "id": "2eca2634",
   "metadata": {
    "slideshow": {
     "slide_type": "fragment"
    }
   },
   "outputs": [
    {
     "name": "stdout",
     "output_type": "stream",
     "text": [
      "692.2556394132799\n"
     ]
    },
    {
     "data": {
      "image/png": "[encoded data removed]",
      "text/plain": [
       "<Figure size 432x288 with 1 Axes>"
      ]
     },
     "metadata": {
      "needs_background": "light"
     },
     "output_type": "display_data"
    }
   ],
   "source": [
    "# Experiment 6\n",
    "temps_v1, years_v1 = ebm(273, Q=2619/4, alpha=0.7, trans=0.015, years=200)\n",
    "\n",
    "plt.figure()\n",
    "plt.plot(years_v0, temps_v0)\n",
    "plt.plot(years_v1, temps_v1)\n",
    "\n",
    "print(temps_v1[-1])"
   ]
  },
  {
   "cell_type": "code",
   "execution_count": null,
   "id": "f57cc41e",
   "metadata": {},
   "outputs": [],
   "source": []
  }
 ],
 "metadata": {
  "celltoolbar": "Slideshow",
  "kernelspec": {
   "display_name": "Python 3",
   "language": "python",
   "name": "python3"
  },
  "language_info": {
   "codemirror_mode": {
    "name": "ipython",
    "version": 3
   },
   "file_extension": ".py",
   "mimetype": "text/x-python",
   "name": "python",
   "nbconvert_exporter": "python",
   "pygments_lexer": "ipython3",
   "version": "3.9.1"
  }
 },
 "nbformat": 4,
 "nbformat_minor": 5
}
